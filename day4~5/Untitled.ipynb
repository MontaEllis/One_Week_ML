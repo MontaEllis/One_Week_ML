{
 "cells": [
  {
   "cell_type": "code",
   "execution_count": 8,
   "metadata": {},
   "outputs": [],
   "source": [
    "import pandas as pd\n",
    "from sklearn.model_selection import train_test_split"
   ]
  },
  {
   "cell_type": "code",
   "execution_count": 18,
   "metadata": {},
   "outputs": [],
   "source": [
    "from sklearn.metrics import accuracy_score,precision_score,recall_score,f1_score,roc_auc_score,roc_curve\n",
    "\n"
   ]
  },
  {
   "cell_type": "code",
   "execution_count": 11,
   "metadata": {},
   "outputs": [],
   "source": [
    "import matplotlib.pyplot as plt\n"
   ]
  },
  {
   "cell_type": "code",
   "execution_count": 13,
   "metadata": {},
   "outputs": [
    {
     "name": "stdout",
     "output_type": "stream",
     "text": [
      "<class 'pandas.core.frame.DataFrame'>\n",
      "RangeIndex: 4754 entries, 0 to 4753\n",
      "Data columns (total 85 columns):\n",
      "low_volume_percent                            4754 non-null float64\n",
      "middle_volume_percent                         4754 non-null float64\n",
      "take_amount_in_later_12_month_highest         4754 non-null int64\n",
      "trans_amount_increase_rate_lately             4754 non-null float64\n",
      "trans_activity_month                          4754 non-null float64\n",
      "trans_activity_day                            4754 non-null float64\n",
      "transd_mcc                                    4754 non-null float64\n",
      "trans_days_interval_filter                    4754 non-null float64\n",
      "trans_days_interval                           4754 non-null float64\n",
      "regional_mobility                             4754 non-null float64\n",
      "repayment_capability                          4754 non-null int64\n",
      "is_high_user                                  4754 non-null int64\n",
      "number_of_trans_from_2011                     4754 non-null float64\n",
      "first_transaction_time                        4754 non-null float64\n",
      "historical_trans_amount                       4754 non-null int64\n",
      "historical_trans_day                          4754 non-null float64\n",
      "rank_trad_1_month                             4754 non-null float64\n",
      "trans_amount_3_month                          4754 non-null int64\n",
      "avg_consume_less_12_valid_month               4754 non-null float64\n",
      "abs                                           4754 non-null int64\n",
      "top_trans_count_last_1_month                  4754 non-null float64\n",
      "avg_price_last_12_month                       4754 non-null int64\n",
      "avg_price_top_last_12_valid_month             4754 non-null float64\n",
      "trans_top_time_last_1_month                   4754 non-null float64\n",
      "trans_top_time_last_6_month                   4754 non-null float64\n",
      "consume_top_time_last_1_month                 4754 non-null float64\n",
      "consume_top_time_last_6_month                 4754 non-null float64\n",
      "cross_consume_count_last_1_month              4754 non-null float64\n",
      "trans_fail_top_count_enum_last_1_month        4754 non-null float64\n",
      "trans_fail_top_count_enum_last_6_month        4754 non-null float64\n",
      "trans_fail_top_count_enum_last_12_month       4754 non-null float64\n",
      "consume_mini_time_last_1_month                4754 non-null float64\n",
      "max_cumulative_consume_later_1_month          4754 non-null int64\n",
      "max_consume_count_later_6_month               4754 non-null float64\n",
      "railway_consume_count_last_12_month           4754 non-null float64\n",
      "pawns_auctions_trusts_consume_last_1_month    4754 non-null int64\n",
      "pawns_auctions_trusts_consume_last_6_month    4754 non-null int64\n",
      "jewelry_consume_count_last_6_month            4754 non-null float64\n",
      "status                                        4754 non-null int64\n",
      "first_transaction_day                         4754 non-null float64\n",
      "trans_day_last_12_month                       4754 non-null float64\n",
      "apply_score                                   4754 non-null float64\n",
      "apply_credibility                             4754 non-null float64\n",
      "query_org_count                               4754 non-null float64\n",
      "query_finance_count                           4754 non-null float64\n",
      "query_cash_count                              4754 non-null float64\n",
      "query_sum_count                               4754 non-null float64\n",
      "latest_one_month_apply                        4754 non-null float64\n",
      "latest_three_month_apply                      4754 non-null float64\n",
      "latest_six_month_apply                        4754 non-null float64\n",
      "loans_score                                   4754 non-null float64\n",
      "loans_credibility_behavior                    4754 non-null float64\n",
      "loans_count                                   4754 non-null float64\n",
      "loans_settle_count                            4754 non-null float64\n",
      "loans_overdue_count                           4754 non-null float64\n",
      "loans_org_count_behavior                      4754 non-null float64\n",
      "consfin_org_count_behavior                    4754 non-null float64\n",
      "loans_cash_count                              4754 non-null float64\n",
      "latest_one_month_loan                         4754 non-null float64\n",
      "latest_three_month_loan                       4754 non-null float64\n",
      "latest_six_month_loan                         4754 non-null float64\n",
      "history_suc_fee                               4754 non-null float64\n",
      "history_fail_fee                              4754 non-null float64\n",
      "latest_one_month_suc                          4754 non-null float64\n",
      "latest_one_month_fail                         4754 non-null float64\n",
      "loans_long_time                               4754 non-null float64\n",
      "loans_credit_limit                            4754 non-null float64\n",
      "loans_credibility_limit                       4754 non-null float64\n",
      "loans_org_count_current                       4754 non-null float64\n",
      "loans_product_count                           4754 non-null float64\n",
      "loans_max_limit                               4754 non-null float64\n",
      "loans_avg_limit                               4754 non-null float64\n",
      "consfin_credit_limit                          4754 non-null float64\n",
      "consfin_credibility                           4754 non-null float64\n",
      "consfin_org_count_current                     4754 non-null float64\n",
      "consfin_product_count                         4754 non-null float64\n",
      "consfin_max_limit                             4754 non-null float64\n",
      "consfin_avg_limit                             4754 non-null float64\n",
      "latest_query_day                              4754 non-null float64\n",
      "loans_latest_day                              4754 non-null float64\n",
      "reg_preference_for_trad                       4754 non-null int64\n",
      "latest_query_time_month                       4754 non-null float64\n",
      "latest_query_time_weekday                     4754 non-null float64\n",
      "loans_latest_time_month                       4754 non-null float64\n",
      "loans_latest_time_weekday                     4754 non-null float64\n",
      "dtypes: float64(73), int64(12)\n",
      "memory usage: 3.1 MB\n"
     ]
    }
   ],
   "source": [
    "file = pd.read_csv(\"data_all.csv\")\n",
    "file.info()"
   ]
  },
  {
   "cell_type": "code",
   "execution_count": 43,
   "metadata": {},
   "outputs": [],
   "source": [
    "from sklearn.preprocessing import StandardScaler\n",
    "features= [x for x in file.columns if x not in ['status']]\n",
    "x = file[features]\n",
    "y = file['status']\n",
    "X_train, X_test, Y_train, Y_test = train_test_split(x,y,test_size=0.3,random_state = 2018)\n",
    "\n",
    "# 归一化\n",
    "scaler = StandardScaler()\n",
    "scaler.fit(X_train)\n",
    "X_train_standard = scaler.transform(X_train)\n",
    "X_test_standard = scaler.transform(X_test)"
   ]
  },
  {
   "cell_type": "code",
   "execution_count": 53,
   "metadata": {},
   "outputs": [],
   "source": [
    "def score(model,X_train,Y_train,X_test,Y_test):\n",
    "    one_model = model.fit(X_train,Y_train)\n",
    "    predictt = one_model.predict(X_test)\n",
    "    \n",
    "    if hasattr(model,'decision_function'):\n",
    "        predictt_pro = one_model.decision_function(X_test)\n",
    "    else:\n",
    "        predictt_pro = one_model.predict_proba(X_test)[:,1]\n",
    "    \n",
    "    accuracy = accuracy_score(Y_test,predictt)\n",
    "    precision = precision_score(Y_test,predictt)\n",
    "    recall = recall_score(Y_test,predictt)\n",
    "    F1_value = f1_score(Y_test,predictt)\n",
    "    auc = roc_auc_score(Y_test,predictt_pro)\n",
    "    \n",
    "    print(\"准确率\",accuracy)\n",
    "    print(\"精准率\",precision)\n",
    "    print(\"召回率\",recall)\n",
    "    print(\"F1\",F1_value)\n",
    "    print(\"AUC\",auc)\n",
    "    \n",
    "    test_fprs, test_tprs, test_thresholds = roc_curve(Y_test, predictt_pro) \n",
    "    plt.plot(test_fprs, test_tprs) \n",
    "    plt.title(\"ROCCurve\") \n",
    "    plt.xlabel(\"FPR\") \n",
    "    plt.ylabel(\"TPR\") \n",
    "    plt.show()\n",
    "\n",
    "    "
   ]
  },
  {
   "cell_type": "code",
   "execution_count": 54,
   "metadata": {},
   "outputs": [
    {
     "name": "stdout",
     "output_type": "stream",
     "text": [
      "准确率 0.7876664330763841\n",
      "精准率 0.6609195402298851\n",
      "召回率 0.3203342618384401\n",
      "F1 0.4315196998123827\n",
      "AUC 0.7657428562486308\n"
     ]
    },
    {
     "data": {
      "image/png": "[encoded data removed]",
      "text/plain": [
       "<Figure size 432x288 with 1 Axes>"
      ]
     },
     "metadata": {},
     "output_type": "display_data"
    }
   ],
   "source": [
    "from sklearn.linear_model import LogisticRegression\n",
    "lin = LogisticRegression(random_state =2018)\n",
    "score(lin,X_train_standard,Y_train,X_test_standard,Y_test)"
   ]
  },
  {
   "cell_type": "code",
   "execution_count": 55,
   "metadata": {},
   "outputs": [
    {
     "name": "stdout",
     "output_type": "stream",
     "text": [
      "准确率 0.7813594954449895\n",
      "精准率 0.6535947712418301\n",
      "召回率 0.2785515320334262\n",
      "F1 0.390625\n",
      "AUC 0.7677954784931093\n"
     ]
    },
    {
     "data": {
      "image/png": "[encoded data removed]",
      "text/plain": [
       "<Figure size 432x288 with 1 Axes>"
      ]
     },
     "metadata": {},
     "output_type": "display_data"
    }
   ],
   "source": [
    "from sklearn.svm import LinearSVC\n",
    "svc = LinearSVC(random_state=2018)\n",
    "score(svc,X_train_standard,Y_train,X_test_standard,Y_test)"
   ]
  },
  {
   "cell_type": "code",
   "execution_count": 57,
   "metadata": {},
   "outputs": [
    {
     "name": "stdout",
     "output_type": "stream",
     "text": [
      "准确率 0.6853538892782061\n",
      "精准率 0.38402061855670105\n",
      "召回率 0.415041782729805\n",
      "F1 0.3989290495314592\n",
      "AUC 0.5956295055971123\n"
     ]
    },
    {
     "data": {
      "image/png": "[encoded data removed]",
      "text/plain": [
       "<Figure size 432x288 with 1 Axes>"
      ]
     },
     "metadata": {},
     "output_type": "display_data"
    }
   ],
   "source": [
    "from sklearn.tree import DecisionTreeClassifier\n",
    "tree = DecisionTreeClassifier(random_state = 2018)\n",
    "score(tree,X_train_standard,Y_train,X_test_standard,Y_test)"
   ]
  },
  {
   "cell_type": "code",
   "execution_count": 58,
   "metadata": {},
   "outputs": [
    {
     "name": "stdout",
     "output_type": "stream",
     "text": [
      "准确率 0.7687456201822004\n",
      "精准率 0.5911949685534591\n",
      "召回率 0.2618384401114206\n",
      "F1 0.362934362934363\n",
      "AUC 0.7199292145264102\n"
     ]
    },
    {
     "data": {
      "image/png": "[encoded data removed]",
      "text/plain": [
       "<Figure size 432x288 with 1 Axes>"
      ]
     },
     "metadata": {},
     "output_type": "display_data"
    }
   ],
   "source": [
    "from sklearn.ensemble import RandomForestClassifier\n",
    "rf = RandomForestClassifier(random_state = 2018)\n",
    "score(rf,X_train_standard,Y_train,X_test_standard,Y_test)"
   ]
  },
  {
   "cell_type": "code",
   "execution_count": 59,
   "metadata": {},
   "outputs": [
    {
     "name": "stdout",
     "output_type": "stream",
     "text": [
      "准确率 0.7806587245970568\n",
      "精准率 0.6116504854368932\n",
      "召回率 0.35097493036211697\n",
      "F1 0.44601769911504424\n",
      "AUC 0.7633146589047812\n"
     ]
    },
    {
     "data": {
      "image/png": "[encoded data removed]",
      "text/plain": [
       "<Figure size 432x288 with 1 Axes>"
      ]
     },
     "metadata": {},
     "output_type": "display_data"
    }
   ],
   "source": [
    "from sklearn.ensemble import GradientBoostingClassifier\n",
    "gr = GradientBoostingClassifier(random_state = 2018)\n",
    "score(gr,X_train_standard,Y_train,X_test_standard,Y_test)"
   ]
  },
  {
   "cell_type": "code",
   "execution_count": 61,
   "metadata": {},
   "outputs": [
    {
     "name": "stdout",
     "output_type": "stream",
     "text": [
      "准确率 0.7701471618780659\n",
      "精准率 0.5688888888888889\n",
      "召回率 0.3565459610027855\n",
      "F1 0.4383561643835616\n",
      "AUC 0.7535210165566023\n"
     ]
    },
    {
     "data": {
      "image/png": "[encoded data removed]",
      "text/plain": [
       "<Figure size 432x288 with 1 Axes>"
      ]
     },
     "metadata": {},
     "output_type": "display_data"
    }
   ],
   "source": [
    "import lightgbm as lgb\n",
    "lgb_model = lgb.LGBMClassifier(random_state = 2018)\n",
    "score(lgb_model,X_train_standard,Y_train,X_test_standard,Y_test)"
   ]
  },
  {
   "cell_type": "code",
   "execution_count": 46,
   "metadata": {},
   "outputs": [
    {
     "name": "stdout",
     "output_type": "stream",
     "text": [
      "准确率 0.7855641205325858\n",
      "精准率 0.6305418719211823\n",
      "召回率 0.3565459610027855\n",
      "F1 0.4555160142348754\n",
      "AUC 0.7713634419371329\n"
     ]
    },
    {
     "data": {
      "image/png": "[encoded data removed]",
      "text/plain": [
       "<Figure size 432x288 with 1 Axes>"
      ]
     },
     "metadata": {},
     "output_type": "display_data"
    }
   ],
   "source": [
    "from xgboost.sklearn import XGBClassifier\n",
    "xgbs = XGBClassifier(random_state=2018)\n",
    "score(xgbs,X_train_standard,Y_train,X_test_standard,Y_test)"
   ]
  },
  {
   "cell_type": "code",
   "execution_count": null,
   "metadata": {},
   "outputs": [],
   "source": []
  }
 ],
 "metadata": {
  "kernelspec": {
   "display_name": "Python 3",
   "language": "python",
   "name": "python3"
  },
  "language_info": {
   "codemirror_mode": {
    "name": "ipython",
    "version": 3
   },
   "file_extension": ".py",
   "mimetype": "text/x-python",
   "name": "python",
   "nbconvert_exporter": "python",
   "pygments_lexer": "ipython3",
   "version": "3.6.5"
  }
 },
 "nbformat": 4,
 "nbformat_minor": 2
}
