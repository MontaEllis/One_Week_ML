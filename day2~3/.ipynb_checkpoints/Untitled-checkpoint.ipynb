{
 "cells": [
  {
   "cell_type": "code",
   "execution_count": 2,
   "metadata": {},
   "outputs": [],
   "source": [
    "import pandas as pd\n",
    "import numpy as np\n"
   ]
  },
  {
   "cell_type": "code",
   "execution_count": 4,
   "metadata": {},
   "outputs": [
    {
     "name": "stdout",
     "output_type": "stream",
     "text": [
      "<class 'pandas.core.frame.DataFrame'>\n",
      "RangeIndex: 4754 entries, 0 to 4753\n",
      "Data columns (total 85 columns):\n",
      "low_volume_percent                            4754 non-null float64\n",
      "middle_volume_percent                         4754 non-null float64\n",
      "take_amount_in_later_12_month_highest         4754 non-null int64\n",
      "trans_amount_increase_rate_lately             4754 non-null float64\n",
      "trans_activity_month                          4754 non-null float64\n",
      "trans_activity_day                            4754 non-null float64\n",
      "transd_mcc                                    4754 non-null float64\n",
      "trans_days_interval_filter                    4754 non-null float64\n",
      "trans_days_interval                           4754 non-null float64\n",
      "regional_mobility                             4754 non-null float64\n",
      "repayment_capability                          4754 non-null int64\n",
      "is_high_user                                  4754 non-null int64\n",
      "number_of_trans_from_2011                     4754 non-null float64\n",
      "first_transaction_time                        4754 non-null float64\n",
      "historical_trans_amount                       4754 non-null int64\n",
      "historical_trans_day                          4754 non-null float64\n",
      "rank_trad_1_month                             4754 non-null float64\n",
      "trans_amount_3_month                          4754 non-null int64\n",
      "avg_consume_less_12_valid_month               4754 non-null float64\n",
      "abs                                           4754 non-null int64\n",
      "top_trans_count_last_1_month                  4754 non-null float64\n",
      "avg_price_last_12_month                       4754 non-null int64\n",
      "avg_price_top_last_12_valid_month             4754 non-null float64\n",
      "trans_top_time_last_1_month                   4754 non-null float64\n",
      "trans_top_time_last_6_month                   4754 non-null float64\n",
      "consume_top_time_last_1_month                 4754 non-null float64\n",
      "consume_top_time_last_6_month                 4754 non-null float64\n",
      "cross_consume_count_last_1_month              4754 non-null float64\n",
      "trans_fail_top_count_enum_last_1_month        4754 non-null float64\n",
      "trans_fail_top_count_enum_last_6_month        4754 non-null float64\n",
      "trans_fail_top_count_enum_last_12_month       4754 non-null float64\n",
      "consume_mini_time_last_1_month                4754 non-null float64\n",
      "max_cumulative_consume_later_1_month          4754 non-null int64\n",
      "max_consume_count_later_6_month               4754 non-null float64\n",
      "railway_consume_count_last_12_month           4754 non-null float64\n",
      "pawns_auctions_trusts_consume_last_1_month    4754 non-null int64\n",
      "pawns_auctions_trusts_consume_last_6_month    4754 non-null int64\n",
      "jewelry_consume_count_last_6_month            4754 non-null float64\n",
      "status                                        4754 non-null int64\n",
      "first_transaction_day                         4754 non-null float64\n",
      "trans_day_last_12_month                       4754 non-null float64\n",
      "apply_score                                   4754 non-null float64\n",
      "apply_credibility                             4754 non-null float64\n",
      "query_org_count                               4754 non-null float64\n",
      "query_finance_count                           4754 non-null float64\n",
      "query_cash_count                              4754 non-null float64\n",
      "query_sum_count                               4754 non-null float64\n",
      "latest_one_month_apply                        4754 non-null float64\n",
      "latest_three_month_apply                      4754 non-null float64\n",
      "latest_six_month_apply                        4754 non-null float64\n",
      "loans_score                                   4754 non-null float64\n",
      "loans_credibility_behavior                    4754 non-null float64\n",
      "loans_count                                   4754 non-null float64\n",
      "loans_settle_count                            4754 non-null float64\n",
      "loans_overdue_count                           4754 non-null float64\n",
      "loans_org_count_behavior                      4754 non-null float64\n",
      "consfin_org_count_behavior                    4754 non-null float64\n",
      "loans_cash_count                              4754 non-null float64\n",
      "latest_one_month_loan                         4754 non-null float64\n",
      "latest_three_month_loan                       4754 non-null float64\n",
      "latest_six_month_loan                         4754 non-null float64\n",
      "history_suc_fee                               4754 non-null float64\n",
      "history_fail_fee                              4754 non-null float64\n",
      "latest_one_month_suc                          4754 non-null float64\n",
      "latest_one_month_fail                         4754 non-null float64\n",
      "loans_long_time                               4754 non-null float64\n",
      "loans_credit_limit                            4754 non-null float64\n",
      "loans_credibility_limit                       4754 non-null float64\n",
      "loans_org_count_current                       4754 non-null float64\n",
      "loans_product_count                           4754 non-null float64\n",
      "loans_max_limit                               4754 non-null float64\n",
      "loans_avg_limit                               4754 non-null float64\n",
      "consfin_credit_limit                          4754 non-null float64\n",
      "consfin_credibility                           4754 non-null float64\n",
      "consfin_org_count_current                     4754 non-null float64\n",
      "consfin_product_count                         4754 non-null float64\n",
      "consfin_max_limit                             4754 non-null float64\n",
      "consfin_avg_limit                             4754 non-null float64\n",
      "latest_query_day                              4754 non-null float64\n",
      "loans_latest_day                              4754 non-null float64\n",
      "reg_preference_for_trad                       4754 non-null int64\n",
      "latest_query_time_month                       4754 non-null float64\n",
      "latest_query_time_weekday                     4754 non-null float64\n",
      "loans_latest_time_month                       4754 non-null float64\n",
      "loans_latest_time_weekday                     4754 non-null float64\n",
      "dtypes: float64(73), int64(12)\n",
      "memory usage: 3.1 MB\n"
     ]
    }
   ],
   "source": [
    "from sklearn.model_selection import train_test_split\n",
    "data_all = pd.read_csv(\"data_all.csv\")\n",
    "data_all.info()"
   ]
  },
  {
   "cell_type": "code",
   "execution_count": 13,
   "metadata": {},
   "outputs": [],
   "source": [
    "features= [x for x in data_all.columns if x not in ['status']]\n",
    "x = data_all[features]\n",
    "y = data_all['status']\n",
    "X_train, X_test, Y_train, Y_test = train_test_split(x,y,test_size=0.3,random_state = 2018)"
   ]
  },
  {
   "cell_type": "code",
   "execution_count": 14,
   "metadata": {},
   "outputs": [],
   "source": [
    "from sklearn.ensemble import RandomForestClassifier\n"
   ]
  },
  {
   "cell_type": "code",
   "execution_count": 16,
   "metadata": {},
   "outputs": [
    {
     "name": "stderr",
     "output_type": "stream",
     "text": [
      "C:\\Anaconda3\\lib\\site-packages\\sklearn\\ensemble\\forest.py:453: UserWarning: Some inputs do not have OOB scores. This probably means too few trees were used to compute any reliable oob estimates.\n",
      "  warn(\"Some inputs do not have OOB scores. \"\n",
      "C:\\Anaconda3\\lib\\site-packages\\sklearn\\ensemble\\forest.py:458: RuntimeWarning: invalid value encountered in true_divide\n",
      "  predictions[k].sum(axis=1)[:, np.newaxis])\n"
     ]
    },
    {
     "data": {
      "text/plain": [
       "0.7708479327259986"
      ]
     },
     "execution_count": 16,
     "metadata": {},
     "output_type": "execute_result"
    }
   ],
   "source": [
    "rf = RandomForestClassifier(oob_score=True, random_state=2018)\n",
    "rf_model = rf.fit(X_train,Y_train)\n",
    "rf_result = rf_model.score(X_test,Y_test)\n",
    "rf_result"
   ]
  },
  {
   "cell_type": "code",
   "execution_count": 17,
   "metadata": {},
   "outputs": [],
   "source": [
    "from sklearn.ensemble import GradientBoostingClassifier\n"
   ]
  },
  {
   "cell_type": "code",
   "execution_count": 19,
   "metadata": {},
   "outputs": [
    {
     "data": {
      "text/plain": [
       "0.7806587245970568"
      ]
     },
     "execution_count": 19,
     "metadata": {},
     "output_type": "execute_result"
    }
   ],
   "source": [
    "gb = GradientBoostingClassifier(random_state=2018)\n",
    "gb_model = gb.fit(X_train,Y_train)\n",
    "gb_result = gb_model.score(X_test,Y_test)\n",
    "gb_result"
   ]
  },
  {
   "cell_type": "code",
   "execution_count": 22,
   "metadata": {},
   "outputs": [
    {
     "data": {
      "text/plain": [
       "0.7855641205325858"
      ]
     },
     "execution_count": 22,
     "metadata": {},
     "output_type": "execute_result"
    }
   ],
   "source": [
    "from xgboost.sklearn import  XGBClassifier\n",
    "xgb = XGBClassifier(random_stare = 2018)\n",
    "xgb.fit(X_train,Y_train)\n",
    "xgb_result = xgb.score(X_test,Y_test)\n",
    "xgb_result"
   ]
  },
  {
   "cell_type": "code",
   "execution_count": 24,
   "metadata": {},
   "outputs": [
    {
     "data": {
      "text/plain": [
       "0.7701471618780659"
      ]
     },
     "execution_count": 24,
     "metadata": {},
     "output_type": "execute_result"
    }
   ],
   "source": [
    "import lightgbm\n",
    "lgb = lightgbm.LGBMClassifier(boosting_type='gbdt',random_state=2018)\n",
    "lgb_model = lgb.fit(X_train,Y_train)\n",
    "lgb_result = lgb_model.score(X_test,Y_test)\n",
    "lgb_result"
   ]
  }
 ],
 "metadata": {
  "kernelspec": {
   "display_name": "Python 3",
   "language": "python",
   "name": "python3"
  },
  "language_info": {
   "codemirror_mode": {
    "name": "ipython",
    "version": 3
   },
   "file_extension": ".py",
   "mimetype": "text/x-python",
   "name": "python",
   "nbconvert_exporter": "python",
   "pygments_lexer": "ipython3",
   "version": "3.6.5"
  }
 },
 "nbformat": 4,
 "nbformat_minor": 2
}
